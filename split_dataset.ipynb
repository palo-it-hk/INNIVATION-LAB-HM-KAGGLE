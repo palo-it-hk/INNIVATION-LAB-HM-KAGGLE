{
 "cells": [
  {
   "cell_type": "code",
   "execution_count": 2,
   "metadata": {},
   "outputs": [],
   "source": [
    "import os\n",
    "import pandas"
   ]
  },
  {
   "cell_type": "code",
   "execution_count": 4,
   "metadata": {},
   "outputs": [],
   "source": [
    "#we set the data directory\n",
    "source_data_directory = 'DATA/SOURCE_DATA_FULL'\n",
    "target_data_directory = 'DATA/SOURCE_LIMITED_DATA'\n",
    "rootDir = os.getcwd()"
   ]
  },
  {
   "cell_type": "code",
   "execution_count": 13,
   "metadata": {},
   "outputs": [],
   "source": [
    "#first the customer\n",
    "customerFileName = 'customers.csv'\n",
    "myCustomer_df = pandas.read_csv(os.path.join(rootDir,source_data_directory,customerFileName))\n"
   ]
  },
  {
   "cell_type": "code",
   "execution_count": 9,
   "metadata": {},
   "outputs": [],
   "source": [
    "#we get the first 100 and save\n",
    "myCustomer_limited_df = myCustomer_df[:100]\n",
    "myCustomer_limited_df.to_csv(os.path.join(rootDir,target_data_directory,customerFileName),index=False)"
   ]
  },
  {
   "cell_type": "code",
   "execution_count": 10,
   "metadata": {},
   "outputs": [],
   "source": [
    "#the the transaction\n",
    "transactionFileName = 'transactions_train.csv'\n",
    "myTransactions_df = pandas.read_csv(os.path.join(rootDir,source_data_directory,transactionFileName))\n"
   ]
  },
  {
   "cell_type": "code",
   "execution_count": 16,
   "metadata": {},
   "outputs": [],
   "source": [
    "#we get the transaction of the top 100 customer\n",
    "myTransactions_limited_df = myTransactions_df.merge(myCustomer_limited_df,how='inner', on='customer_id')[myTransactions_df.columns.values.tolist()]\n",
    "myTransactions_limited_df.to_csv(os.path.join(rootDir,target_data_directory,transactionFileName),index=False)"
   ]
  },
  {
   "cell_type": "code",
   "execution_count": 19,
   "metadata": {},
   "outputs": [],
   "source": [
    "#the items\n",
    "articlesFileName = 'articles.csv'\n",
    "myArticle_df = pandas.read_csv(os.path.join(rootDir,source_data_directory,articlesFileName))"
   ]
  },
  {
   "cell_type": "code",
   "execution_count": 20,
   "metadata": {},
   "outputs": [],
   "source": [
    "#we get the items of the top 100 customer\n",
    "myArticle_limited_df = myArticle_df.merge(myTransactions_limited_df,how='inner', on='article_id')[myArticle_df.columns.values.tolist()]\n",
    "myArticle_limited_df.to_csv(os.path.join(rootDir,target_data_directory,articlesFileName),index=False)"
   ]
  },
  {
   "cell_type": "code",
   "execution_count": 15,
   "metadata": {},
   "outputs": [
    {
     "name": "stdout",
     "output_type": "stream",
     "text": [
      "['t_dat', 'customer_id', 'article_id', 'price', 'sales_channel_id']\n"
     ]
    }
   ],
   "source": [
    "#get the list fo column in a list form\n",
    "print(myTransactions_df.columns.values.tolist())\n"
   ]
  }
 ],
 "metadata": {
  "interpreter": {
   "hash": "4ef1e895f5b298796866cd63955069a5b9b304d49ed1baa3623d840f80d174da"
  },
  "kernelspec": {
   "display_name": "Python 3.9.10 ('pykagglehm': venv)",
   "language": "python",
   "name": "python3"
  },
  "language_info": {
   "codemirror_mode": {
    "name": "ipython",
    "version": 3
   },
   "file_extension": ".py",
   "mimetype": "text/x-python",
   "name": "python",
   "nbconvert_exporter": "python",
   "pygments_lexer": "ipython3",
   "version": "3.9.10"
  },
  "orig_nbformat": 4
 },
 "nbformat": 4,
 "nbformat_minor": 2
}
